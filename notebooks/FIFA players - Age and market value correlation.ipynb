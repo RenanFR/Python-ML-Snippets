{
 "cells": [
  {
   "cell_type": "code",
   "execution_count": null,
   "id": "e3680b43-b3ab-46ee-831a-af13d9cfa9e6",
   "metadata": {
    "scrolled": true
   },
   "outputs": [],
   "source": [
    "!pip install pandas"
   ]
  },
  {
   "cell_type": "code",
   "execution_count": null,
   "id": "f0a5d559-9c41-452d-b662-654396c474d8",
   "metadata": {},
   "outputs": [],
   "source": [
    "import pandas as pd\n",
    "from datetime import datetime\n",
    "import seaborn as sns\n",
    "import matplotlib.pyplot as plt"
   ]
  },
  {
   "cell_type": "code",
   "execution_count": null,
   "id": "ccda157f-3082-46cb-a82f-eed5ee9769f0",
   "metadata": {},
   "outputs": [],
   "source": [
    "pd.options.mode.chained_assignment = None"
   ]
  },
  {
   "cell_type": "code",
   "execution_count": null,
   "id": "8073a8c8-ec44-455e-b3a1-1d69e90f424e",
   "metadata": {},
   "outputs": [],
   "source": [
    "players_raw = pd.read_csv('C:/Users/x_fernare1/Downloads/players_data.csv', usecols=[\"NAME\", \"BIRTH_DATE\", \"COUNTRY\", \"OVERALL_RATING\", \"POTENTIAL\", \"VALUE\", \"WAGE\", \"HEIGHT\", \"RELEASE_CLAUSE\", \"POSITION\"], delimiter=',', header=0)"
   ]
  },
  {
   "cell_type": "code",
   "execution_count": null,
   "id": "24085f1f-98e7-4279-961f-394e475d4db0",
   "metadata": {},
   "outputs": [],
   "source": [
    "print(players_raw.columns)"
   ]
  },
  {
   "cell_type": "code",
   "execution_count": null,
   "id": "c1cfc6c8-b912-4b22-82fa-f791defc4a66",
   "metadata": {},
   "outputs": [],
   "source": [
    "current_year = datetime.now().year"
   ]
  },
  {
   "cell_type": "code",
   "execution_count": null,
   "id": "f12cbef7-a4b3-4f82-a36b-eba9909fb791",
   "metadata": {},
   "outputs": [],
   "source": [
    "players_raw['VALUE'] = pd.to_numeric(players_raw['VALUE'].str.replace('€', '').str.replace('M', ''), errors='coerce')\n",
    "players_raw['BIRTH_DATE'] = pd.to_datetime(players_raw['BIRTH_DATE'], format='%d/%m/%Y')\n",
    "players_raw['AGE'] = current_year - players_raw['BIRTH_DATE'].dt.year"
   ]
  },
  {
   "cell_type": "code",
   "execution_count": null,
   "id": "c4b72839-28ec-47c4-84c2-541e9dbb00ed",
   "metadata": {},
   "outputs": [],
   "source": [
    "players_raw.head()"
   ]
  },
  {
   "cell_type": "code",
   "execution_count": null,
   "id": "e3a8143e-3841-49eb-89cf-1d53d2ceaed9",
   "metadata": {},
   "outputs": [],
   "source": [
    "age_value = players_raw[['AGE', 'VALUE']]"
   ]
  },
  {
   "cell_type": "code",
   "execution_count": null,
   "id": "d2f07205-2dd0-4667-b595-1d3aae1701e4",
   "metadata": {},
   "outputs": [],
   "source": [
    "age_value.head()"
   ]
  },
  {
   "cell_type": "code",
   "execution_count": null,
   "id": "5f7fdde3-5a20-49c9-a6e9-e30b009e7179",
   "metadata": {},
   "outputs": [],
   "source": [
    "sorted_players = players_raw.sort_values(by='VALUE', ascending=False)\n",
    "columns_to_display = [\"NAME\", \"AGE\", \"VALUE\"]\n",
    "\n",
    "print(\"Top players by market value:\")\n",
    "sorted_players[columns_to_display].head(10)"
   ]
  },
  {
   "cell_type": "code",
   "execution_count": null,
   "id": "f99271f9-f8c5-4090-8297-0e9fc106796f",
   "metadata": {},
   "outputs": [],
   "source": [
    "plt.figure(figsize=(8, 6))\n",
    "sns.scatterplot(data=age_value, x='AGE', y='VALUE')\n",
    "plt.title('Scatter Plot between Age and Value')\n",
    "plt.xlabel('Age')\n",
    "plt.ylabel('Value')\n",
    "plt.show()"
   ]
  }
 ],
 "metadata": {
  "kernelspec": {
   "display_name": "Python 3 (ipykernel)",
   "language": "python",
   "name": "python3"
  },
  "language_info": {
   "codemirror_mode": {
    "name": "ipython",
    "version": 3
   },
   "file_extension": ".py",
   "mimetype": "text/x-python",
   "name": "python",
   "nbconvert_exporter": "python",
   "pygments_lexer": "ipython3",
   "version": "3.11.5"
  }
 },
 "nbformat": 4,
 "nbformat_minor": 5
}
