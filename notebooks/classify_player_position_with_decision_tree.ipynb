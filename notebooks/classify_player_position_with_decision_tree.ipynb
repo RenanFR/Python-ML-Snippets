{
 "cells": [
  {
   "cell_type": "code",
   "execution_count": 530,
   "id": "c6d36f28-d30b-485d-b8a1-66e348c2ce7d",
   "metadata": {},
   "outputs": [],
   "source": [
    "# pip install -U scikit-learn scipy matplotlib"
   ]
  },
  {
   "cell_type": "code",
   "execution_count": 531,
   "id": "609e42ee-b3c6-4724-9015-705859d07863",
   "metadata": {},
   "outputs": [],
   "source": [
    "import pandas as pd\n",
    "import numpy as np\n",
    "import math"
   ]
  },
  {
   "cell_type": "code",
   "execution_count": 532,
   "id": "84bdb1fa-471d-4721-aaa9-467c571c03ac",
   "metadata": {},
   "outputs": [],
   "source": [
    "players_data = pd.read_csv(\"C:/Users/x_fernare1/Downloads/players_data.csv\")"
   ]
  },
  {
   "cell_type": "code",
   "execution_count": 533,
   "id": "cb19d102-c8fb-423c-a598-7dd89eedc0fc",
   "metadata": {},
   "outputs": [],
   "source": [
    "attacking_columns = ['CROSSING', 'FINISHING', 'HEADING_ACCURACY', 'SHORT_PASSING', 'VOLLEYS']\n",
    "players_data['ATTACKING'] = players_data[attacking_columns].mean(axis=1)"
   ]
  },
  {
   "cell_type": "code",
   "execution_count": 534,
   "id": "ee4c9938-9795-4e60-bbcb-c19f889acabe",
   "metadata": {},
   "outputs": [],
   "source": [
    "skill_columns = ['DRIBBLING', 'CURVE', 'FK_ACCURACY', 'LONG_PASSING', 'BALL_CONTROL']\n",
    "players_data['SKILL'] = players_data[skill_columns].mean(axis=1)\n",
    "\n",
    "movement_columns = ['ACCELERATION', 'SPRINT_SPEED', 'AGILITY', 'REACTIONS', 'BALANCE']\n",
    "players_data['MOVEMENT'] = players_data[movement_columns].mean(axis=1)\n",
    "\n",
    "power_columns = ['SHOT_POWER', 'JUMPING', 'STAMINA', 'STRENGTH', 'LONG_SHOTS']\n",
    "players_data['POWER'] = players_data[power_columns].mean(axis=1)\n",
    "\n",
    "mentality_columns = ['AGGRESSION', 'INTERCEPTIONS', 'POSITIONING', 'VISION', 'PENALTIES', 'COMPOSURE']\n",
    "players_data['MENTALITY'] = players_data[mentality_columns].mean(axis=1)\n",
    "\n",
    "defending_columns = ['DEFENSIVE_AWARENESS', 'STANDING_TACKLE', 'SLIDING_TACKLE']\n",
    "players_data['DEFENDING'] = players_data[defending_columns].mean(axis=1)\n",
    "\n",
    "goalkeeping_columns = ['GK_DIVING', 'GK_HANDLING', 'GK_KICKING', 'GK_POSITIONING', 'GK_REFLEXES']\n",
    "players_data['GOALKEEPING'] = players_data[goalkeeping_columns].mean(axis=1)"
   ]
  },
  {
   "cell_type": "code",
   "execution_count": 535,
   "id": "4d9265d6-b435-4911-a786-a9e62e1fd4fe",
   "metadata": {},
   "outputs": [],
   "source": [
    "attacking_ratings_to_drop = ['CROSSING', 'FINISHING', 'HEADING_ACCURACY', 'SHORT_PASSING', 'VOLLEYS']\n",
    "players_data.drop(columns=attacking_ratings_to_drop, inplace=True)\n",
    "\n",
    "movement_ratings_to_drop = ['ACCELERATION', 'SPRINT_SPEED', 'AGILITY', 'REACTIONS', 'BALANCE']\n",
    "players_data.drop(columns=movement_ratings_to_drop, inplace=True)\n",
    "\n",
    "skill_ratings_to_drop = ['DRIBBLING', 'CURVE', 'FK_ACCURACY', 'LONG_PASSING', 'BALL_CONTROL']\n",
    "players_data.drop(columns=skill_ratings_to_drop, inplace=True)\n",
    "\n",
    "power_ratings_to_drop = ['SHOT_POWER', 'JUMPING', 'STAMINA', 'STRENGTH', 'LONG_SHOTS']\n",
    "players_data.drop(columns=power_ratings_to_drop, inplace=True)\n",
    "\n",
    "mentality_ratings_to_drop = ['AGGRESSION', 'INTERCEPTIONS', 'POSITIONING', 'VISION', 'PENALTIES', 'COMPOSURE']\n",
    "players_data.drop(columns=mentality_ratings_to_drop, inplace=True)\n",
    "\n",
    "defending_ratings_to_drop = ['DEFENSIVE_AWARENESS', 'STANDING_TACKLE', 'SLIDING_TACKLE']\n",
    "players_data.drop(columns=defending_ratings_to_drop, inplace=True)\n",
    "\n",
    "goalkeeping_ratings_to_drop = ['GK_DIVING', 'GK_HANDLING', 'GK_KICKING', 'GK_POSITIONING', 'GK_REFLEXES']\n",
    "players_data.drop(columns=goalkeeping_ratings_to_drop, inplace=True)"
   ]
  },
  {
   "cell_type": "code",
   "execution_count": 536,
   "id": "18759020-8fd9-4e91-bb27-b8902e7b2d32",
   "metadata": {},
   "outputs": [],
   "source": [
    "players_data.drop(columns=['REAL_FACE', 'ID', 'INTERNATIONAL_REPUTATION', 'TEAM', 'COUNTRY', 'NAME'], inplace=True)"
   ]
  },
  {
   "cell_type": "code",
   "execution_count": 537,
   "id": "1fb86ea9-7b88-4794-9f53-478cfeec0793",
   "metadata": {},
   "outputs": [],
   "source": [
    "from datetime import datetime\n",
    "\n",
    "players_data['BIRTH_DATE'] = pd.to_datetime(players_data['BIRTH_DATE'], format='%d/%m/%Y')\n",
    "\n",
    "current_year = datetime.now().year\n",
    "\n",
    "players_data['AGE'] = current_year - players_data['BIRTH_DATE'].dt.year\n",
    "\n",
    "players_data.drop(columns=['BIRTH_DATE'], inplace=True)"
   ]
  },
  {
   "cell_type": "code",
   "execution_count": 538,
   "id": "38c9e95c-0839-4db2-a91d-b281d9db3105",
   "metadata": {},
   "outputs": [],
   "source": [
    "def clean_and_convert(column):\n",
    "    return pd.to_numeric(column.str.replace(r'[^0-9.]', '', regex=True).replace('', pd.NA), errors='coerce').astype('float64')\n",
    "\n",
    "players_data['VALUE'] = clean_and_convert(players_data['VALUE'])\n",
    "players_data['WAGE'] = clean_and_convert(players_data['WAGE'])\n",
    "players_data['RELEASE_CLAUSE'] = clean_and_convert(players_data['RELEASE_CLAUSE'])\n",
    "\n",
    "players_data['KIT_NUMBER'] = pd.to_numeric(players_data['KIT_NUMBER'].replace(r'[^0-9]', '', regex=True), errors='coerce')\n",
    "players_data['KIT_NUMBER'] = players_data['KIT_NUMBER'].astype('Int64')"
   ]
  },
  {
   "cell_type": "code",
   "execution_count": 539,
   "id": "e567a931-c16b-44dc-8762-b4ce5150f8b0",
   "metadata": {},
   "outputs": [],
   "source": [
    "players_data = pd.get_dummies(players_data, columns=['PREFERRED_FOOT'], prefix='PREFERRED_FOOT')"
   ]
  },
  {
   "cell_type": "code",
   "execution_count": 540,
   "id": "30258785-563a-432a-b5ba-9d45576b6594",
   "metadata": {},
   "outputs": [
    {
     "data": {
      "text/html": [
       "<div>\n",
       "<style scoped>\n",
       "    .dataframe tbody tr th:only-of-type {\n",
       "        vertical-align: middle;\n",
       "    }\n",
       "\n",
       "    .dataframe tbody tr th {\n",
       "        vertical-align: top;\n",
       "    }\n",
       "\n",
       "    .dataframe thead th {\n",
       "        text-align: right;\n",
       "    }\n",
       "</style>\n",
       "<table border=\"1\" class=\"dataframe\">\n",
       "  <thead>\n",
       "    <tr style=\"text-align: right;\">\n",
       "      <th></th>\n",
       "      <th>OVERALL_RATING</th>\n",
       "      <th>POTENTIAL</th>\n",
       "      <th>VALUE</th>\n",
       "      <th>WAGE</th>\n",
       "      <th>HEIGHT</th>\n",
       "      <th>KIT_NUMBER</th>\n",
       "      <th>WEAK_FOOT</th>\n",
       "      <th>SKILL_MOVES</th>\n",
       "      <th>RELEASE_CLAUSE</th>\n",
       "      <th>POSITION</th>\n",
       "      <th>ATTACKING</th>\n",
       "      <th>SKILL</th>\n",
       "      <th>MOVEMENT</th>\n",
       "      <th>POWER</th>\n",
       "      <th>MENTALITY</th>\n",
       "      <th>DEFENDING</th>\n",
       "      <th>GOALKEEPING</th>\n",
       "      <th>AGE</th>\n",
       "      <th>PREFERRED_FOOT_Left</th>\n",
       "      <th>PREFERRED_FOOT_Right</th>\n",
       "    </tr>\n",
       "  </thead>\n",
       "  <tbody>\n",
       "    <tr>\n",
       "      <th>0</th>\n",
       "      <td>77</td>\n",
       "      <td>84</td>\n",
       "      <td>21.5</td>\n",
       "      <td>1.0</td>\n",
       "      <td>170</td>\n",
       "      <td>11</td>\n",
       "      <td>4</td>\n",
       "      <td>4</td>\n",
       "      <td>0.0</td>\n",
       "      <td>LM</td>\n",
       "      <td>62</td>\n",
       "      <td>76</td>\n",
       "      <td>80</td>\n",
       "      <td>67</td>\n",
       "      <td>58</td>\n",
       "      <td>44</td>\n",
       "      <td>11</td>\n",
       "      <td>24</td>\n",
       "      <td>False</td>\n",
       "      <td>True</td>\n",
       "    </tr>\n",
       "    <tr>\n",
       "      <th>1</th>\n",
       "      <td>85</td>\n",
       "      <td>88</td>\n",
       "      <td>73.5</td>\n",
       "      <td>170.0</td>\n",
       "      <td>186</td>\n",
       "      <td>10</td>\n",
       "      <td>3</td>\n",
       "      <td>5</td>\n",
       "      <td>145.2</td>\n",
       "      <td>LW</td>\n",
       "      <td>79</td>\n",
       "      <td>81</td>\n",
       "      <td>84</td>\n",
       "      <td>80</td>\n",
       "      <td>74</td>\n",
       "      <td>37</td>\n",
       "      <td>11</td>\n",
       "      <td>26</td>\n",
       "      <td>False</td>\n",
       "      <td>True</td>\n",
       "    </tr>\n",
       "    <tr>\n",
       "      <th>2</th>\n",
       "      <td>70</td>\n",
       "      <td>82</td>\n",
       "      <td>3.6</td>\n",
       "      <td>18.0</td>\n",
       "      <td>180</td>\n",
       "      <td>64</td>\n",
       "      <td>3</td>\n",
       "      <td>3</td>\n",
       "      <td>7.6</td>\n",
       "      <td>LB</td>\n",
       "      <td>58</td>\n",
       "      <td>72</td>\n",
       "      <td>74</td>\n",
       "      <td>60</td>\n",
       "      <td>63</td>\n",
       "      <td>65</td>\n",
       "      <td>11</td>\n",
       "      <td>21</td>\n",
       "      <td>True</td>\n",
       "      <td>False</td>\n",
       "    </tr>\n",
       "    <tr>\n",
       "      <th>3</th>\n",
       "      <td>83</td>\n",
       "      <td>89</td>\n",
       "      <td>53.0</td>\n",
       "      <td>73.0</td>\n",
       "      <td>193</td>\n",
       "      <td>12</td>\n",
       "      <td>3</td>\n",
       "      <td>2</td>\n",
       "      <td>111.3</td>\n",
       "      <td>CB</td>\n",
       "      <td>57</td>\n",
       "      <td>64</td>\n",
       "      <td>72</td>\n",
       "      <td>63</td>\n",
       "      <td>67</td>\n",
       "      <td>85</td>\n",
       "      <td>9</td>\n",
       "      <td>22</td>\n",
       "      <td>False</td>\n",
       "      <td>True</td>\n",
       "    </tr>\n",
       "    <tr>\n",
       "      <th>4</th>\n",
       "      <td>85</td>\n",
       "      <td>90</td>\n",
       "      <td>80.0</td>\n",
       "      <td>110.0</td>\n",
       "      <td>178</td>\n",
       "      <td>7</td>\n",
       "      <td>3</td>\n",
       "      <td>3</td>\n",
       "      <td>158.0</td>\n",
       "      <td>RW</td>\n",
       "      <td>74</td>\n",
       "      <td>79</td>\n",
       "      <td>85</td>\n",
       "      <td>72</td>\n",
       "      <td>77</td>\n",
       "      <td>67</td>\n",
       "      <td>10</td>\n",
       "      <td>22</td>\n",
       "      <td>True</td>\n",
       "      <td>False</td>\n",
       "    </tr>\n",
       "  </tbody>\n",
       "</table>\n",
       "</div>"
      ],
      "text/plain": [
       "   OVERALL_RATING  POTENTIAL  VALUE   WAGE  HEIGHT  KIT_NUMBER  WEAK_FOOT  \\\n",
       "0              77         84   21.5    1.0     170          11          4   \n",
       "1              85         88   73.5  170.0     186          10          3   \n",
       "2              70         82    3.6   18.0     180          64          3   \n",
       "3              83         89   53.0   73.0     193          12          3   \n",
       "4              85         90   80.0  110.0     178           7          3   \n",
       "\n",
       "   SKILL_MOVES  RELEASE_CLAUSE POSITION  ATTACKING  SKILL  MOVEMENT  POWER  \\\n",
       "0            4             0.0       LM         62     76        80     67   \n",
       "1            5           145.2       LW         79     81        84     80   \n",
       "2            3             7.6       LB         58     72        74     60   \n",
       "3            2           111.3       CB         57     64        72     63   \n",
       "4            3           158.0       RW         74     79        85     72   \n",
       "\n",
       "   MENTALITY  DEFENDING  GOALKEEPING  AGE  PREFERRED_FOOT_Left  \\\n",
       "0         58         44           11   24                False   \n",
       "1         74         37           11   26                False   \n",
       "2         63         65           11   21                 True   \n",
       "3         67         85            9   22                False   \n",
       "4         77         67           10   22                 True   \n",
       "\n",
       "   PREFERRED_FOOT_Right  \n",
       "0                  True  \n",
       "1                  True  \n",
       "2                 False  \n",
       "3                  True  \n",
       "4                 False  "
      ]
     },
     "execution_count": 540,
     "metadata": {},
     "output_type": "execute_result"
    }
   ],
   "source": [
    "def rounded_mean(row):\n",
    "    return math.ceil(np.nanmean(row))\n",
    "\n",
    "for column in ['ATTACKING', 'SKILL', 'MOVEMENT', 'POWER', 'MENTALITY', 'DEFENDING', 'GOALKEEPING']:\n",
    "    players_data[column] = players_data[column].apply(rounded_mean)\n",
    "\n",
    "players_data.to_csv('C:/Users/x_fernare1/git/Python-ML-Snippets/preprocessed_players_data.csv', index=False)\n",
    "\n",
    "players_data.head()"
   ]
  },
  {
   "cell_type": "code",
   "execution_count": 541,
   "id": "b237aeff-29b4-4234-8033-8dc962a2f288",
   "metadata": {},
   "outputs": [],
   "source": [
    "features = players_data.drop(columns='POSITION')\n",
    "labels = players_data['POSITION']"
   ]
  },
  {
   "cell_type": "code",
   "execution_count": 542,
   "id": "9ebc276a-feb2-4a2f-a3f1-c37b59cde081",
   "metadata": {},
   "outputs": [],
   "source": [
    "from sklearn.model_selection import train_test_split\n",
    "\n",
    "features_train,features_test,labels_train,labels_test = train_test_split(features,labels,test_size=0.2, random_state=0)"
   ]
  },
  {
   "cell_type": "code",
   "execution_count": 543,
   "id": "6533cc92-3dc6-49f1-8675-d9ab34ef2884",
   "metadata": {},
   "outputs": [
    {
     "data": {
      "text/html": [
       "<style>#sk-container-id-22 {color: black;}#sk-container-id-22 pre{padding: 0;}#sk-container-id-22 div.sk-toggleable {background-color: white;}#sk-container-id-22 label.sk-toggleable__label {cursor: pointer;display: block;width: 100%;margin-bottom: 0;padding: 0.3em;box-sizing: border-box;text-align: center;}#sk-container-id-22 label.sk-toggleable__label-arrow:before {content: \"▸\";float: left;margin-right: 0.25em;color: #696969;}#sk-container-id-22 label.sk-toggleable__label-arrow:hover:before {color: black;}#sk-container-id-22 div.sk-estimator:hover label.sk-toggleable__label-arrow:before {color: black;}#sk-container-id-22 div.sk-toggleable__content {max-height: 0;max-width: 0;overflow: hidden;text-align: left;background-color: #f0f8ff;}#sk-container-id-22 div.sk-toggleable__content pre {margin: 0.2em;color: black;border-radius: 0.25em;background-color: #f0f8ff;}#sk-container-id-22 input.sk-toggleable__control:checked~div.sk-toggleable__content {max-height: 200px;max-width: 100%;overflow: auto;}#sk-container-id-22 input.sk-toggleable__control:checked~label.sk-toggleable__label-arrow:before {content: \"▾\";}#sk-container-id-22 div.sk-estimator input.sk-toggleable__control:checked~label.sk-toggleable__label {background-color: #d4ebff;}#sk-container-id-22 div.sk-label input.sk-toggleable__control:checked~label.sk-toggleable__label {background-color: #d4ebff;}#sk-container-id-22 input.sk-hidden--visually {border: 0;clip: rect(1px 1px 1px 1px);clip: rect(1px, 1px, 1px, 1px);height: 1px;margin: -1px;overflow: hidden;padding: 0;position: absolute;width: 1px;}#sk-container-id-22 div.sk-estimator {font-family: monospace;background-color: #f0f8ff;border: 1px dotted black;border-radius: 0.25em;box-sizing: border-box;margin-bottom: 0.5em;}#sk-container-id-22 div.sk-estimator:hover {background-color: #d4ebff;}#sk-container-id-22 div.sk-parallel-item::after {content: \"\";width: 100%;border-bottom: 1px solid gray;flex-grow: 1;}#sk-container-id-22 div.sk-label:hover label.sk-toggleable__label {background-color: #d4ebff;}#sk-container-id-22 div.sk-serial::before {content: \"\";position: absolute;border-left: 1px solid gray;box-sizing: border-box;top: 0;bottom: 0;left: 50%;z-index: 0;}#sk-container-id-22 div.sk-serial {display: flex;flex-direction: column;align-items: center;background-color: white;padding-right: 0.2em;padding-left: 0.2em;position: relative;}#sk-container-id-22 div.sk-item {position: relative;z-index: 1;}#sk-container-id-22 div.sk-parallel {display: flex;align-items: stretch;justify-content: center;background-color: white;position: relative;}#sk-container-id-22 div.sk-item::before, #sk-container-id-22 div.sk-parallel-item::before {content: \"\";position: absolute;border-left: 1px solid gray;box-sizing: border-box;top: 0;bottom: 0;left: 50%;z-index: -1;}#sk-container-id-22 div.sk-parallel-item {display: flex;flex-direction: column;z-index: 1;position: relative;background-color: white;}#sk-container-id-22 div.sk-parallel-item:first-child::after {align-self: flex-end;width: 50%;}#sk-container-id-22 div.sk-parallel-item:last-child::after {align-self: flex-start;width: 50%;}#sk-container-id-22 div.sk-parallel-item:only-child::after {width: 0;}#sk-container-id-22 div.sk-dashed-wrapped {border: 1px dashed gray;margin: 0 0.4em 0.5em 0.4em;box-sizing: border-box;padding-bottom: 0.4em;background-color: white;}#sk-container-id-22 div.sk-label label {font-family: monospace;font-weight: bold;display: inline-block;line-height: 1.2em;}#sk-container-id-22 div.sk-label-container {text-align: center;}#sk-container-id-22 div.sk-container {/* jupyter's `normalize.less` sets `[hidden] { display: none; }` but bootstrap.min.css set `[hidden] { display: none !important; }` so we also need the `!important` here to be able to override the default hidden behavior on the sphinx rendered scikit-learn.org. See: https://github.com/scikit-learn/scikit-learn/issues/21755 */display: inline-block !important;position: relative;}#sk-container-id-22 div.sk-text-repr-fallback {display: none;}</style><div id=\"sk-container-id-22\" class=\"sk-top-container\"><div class=\"sk-text-repr-fallback\"><pre>DecisionTreeClassifier(random_state=0)</pre><b>In a Jupyter environment, please rerun this cell to show the HTML representation or trust the notebook. <br />On GitHub, the HTML representation is unable to render, please try loading this page with nbviewer.org.</b></div><div class=\"sk-container\" hidden><div class=\"sk-item\"><div class=\"sk-estimator sk-toggleable\"><input class=\"sk-toggleable__control sk-hidden--visually\" id=\"sk-estimator-id-22\" type=\"checkbox\" checked><label for=\"sk-estimator-id-22\" class=\"sk-toggleable__label sk-toggleable__label-arrow\">DecisionTreeClassifier</label><div class=\"sk-toggleable__content\"><pre>DecisionTreeClassifier(random_state=0)</pre></div></div></div></div></div>"
      ],
      "text/plain": [
       "DecisionTreeClassifier(random_state=0)"
      ]
     },
     "execution_count": 543,
     "metadata": {},
     "output_type": "execute_result"
    }
   ],
   "source": [
    "from sklearn.tree import DecisionTreeClassifier\n",
    "\n",
    "tree = DecisionTreeClassifier(random_state=0)\n",
    "tree.fit(features_train,labels_train)"
   ]
  },
  {
   "cell_type": "code",
   "execution_count": 544,
   "id": "89dc8dce-1cac-4b91-b8c8-8e23bb017aef",
   "metadata": {},
   "outputs": [],
   "source": [
    "labels_pred_test = tree.predict(features_test)"
   ]
  },
  {
   "cell_type": "code",
   "execution_count": 545,
   "id": "cdb9f5e1-474c-4adb-8263-fb7e6141b5c1",
   "metadata": {},
   "outputs": [
    {
     "data": {
      "text/plain": [
       "0.5164203612479474"
      ]
     },
     "execution_count": 545,
     "metadata": {},
     "output_type": "execute_result"
    }
   ],
   "source": [
    "from sklearn.metrics import accuracy_score,f1_score\n",
    "\n",
    "accuracy_score(labels_test,labels_pred_test)"
   ]
  },
  {
   "cell_type": "code",
   "execution_count": 546,
   "id": "9cf7e7b0-5276-4f34-becb-d0e1dc3e3971",
   "metadata": {},
   "outputs": [
    {
     "data": {
      "text/plain": [
       "0.5157038390308382"
      ]
     },
     "execution_count": 546,
     "metadata": {},
     "output_type": "execute_result"
    }
   ],
   "source": [
    "f1_score(labels_test,labels_pred_test, average='weighted')"
   ]
  },
  {
   "cell_type": "code",
   "execution_count": 547,
   "id": "15c65ed2-bb0e-4898-8163-9d78b594bbfa",
   "metadata": {},
   "outputs": [
    {
     "data": {
      "text/plain": [
       "0.9238517188473901"
      ]
     },
     "execution_count": 547,
     "metadata": {},
     "output_type": "execute_result"
    }
   ],
   "source": [
    "labels_pred_train = tree.predict(features_train)\n",
    "f1_score(labels_train,labels_pred_train, average='weighted')"
   ]
  }
 ],
 "metadata": {
  "kernelspec": {
   "display_name": "Python 3 (ipykernel)",
   "language": "python",
   "name": "python3"
  },
  "language_info": {
   "codemirror_mode": {
    "name": "ipython",
    "version": 3
   },
   "file_extension": ".py",
   "mimetype": "text/x-python",
   "name": "python",
   "nbconvert_exporter": "python",
   "pygments_lexer": "ipython3",
   "version": "3.11.5"
  }
 },
 "nbformat": 4,
 "nbformat_minor": 5
}
