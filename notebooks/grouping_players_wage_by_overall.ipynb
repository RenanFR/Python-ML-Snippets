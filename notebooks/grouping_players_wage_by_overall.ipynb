{
 "cells": [
  {
   "cell_type": "code",
   "execution_count": 111,
   "id": "ff308e70-e0b2-480d-b90d-ca520d2de59e",
   "metadata": {},
   "outputs": [],
   "source": [
    "import pandas as pd\n",
    "\n",
    "from sklearn.preprocessing import StandardScaler\n",
    "\n",
    "import plotly.express as px\n",
    "import plotly.graph_objects as go\n",
    "import plotly.io as pio\n",
    "\n",
    "pio.renderers.default = \"iframe\"\n",
    "\n",
    "import numpy as np\n",
    "\n",
    "import math\n",
    "\n",
    "from sklearn.cluster import KMeans"
   ]
  },
  {
   "cell_type": "code",
   "execution_count": 112,
   "id": "e1665c7b-6003-4449-86d3-84193da7e45c",
   "metadata": {},
   "outputs": [
    {
     "data": {
      "text/plain": [
       "Index(['NAME', 'BIRTH_DATE', 'COUNTRY', 'TEAM', 'ID', 'OVERALL_RATING',\n",
       "       'POTENTIAL', 'VALUE', 'WAGE', 'HEIGHT', 'KIT_NUMBER', 'PREFERRED_FOOT',\n",
       "       'WEAK_FOOT', 'SKILL_MOVES', 'INTERNATIONAL_REPUTATION', 'REAL_FACE',\n",
       "       'RELEASE_CLAUSE', 'CROSSING', 'FINISHING', 'HEADING_ACCURACY',\n",
       "       'SHORT_PASSING', 'VOLLEYS', 'DRIBBLING', 'CURVE', 'FK_ACCURACY',\n",
       "       'LONG_PASSING', 'BALL_CONTROL', 'ACCELERATION', 'SPRINT_SPEED',\n",
       "       'AGILITY', 'REACTIONS', 'BALANCE', 'SHOT_POWER', 'JUMPING', 'STAMINA',\n",
       "       'STRENGTH', 'LONG_SHOTS', 'AGGRESSION', 'INTERCEPTIONS', 'POSITIONING',\n",
       "       'VISION', 'PENALTIES', 'COMPOSURE', 'DEFENSIVE_AWARENESS',\n",
       "       'STANDING_TACKLE', 'SLIDING_TACKLE', 'GK_DIVING', 'GK_HANDLING',\n",
       "       'GK_KICKING', 'GK_POSITIONING', 'GK_REFLEXES', 'POSITION'],\n",
       "      dtype='object')"
      ]
     },
     "execution_count": 112,
     "metadata": {},
     "output_type": "execute_result"
    }
   ],
   "source": [
    "df = pd.read_csv(\"../data/players_data.csv\")\n",
    "df.columns"
   ]
  },
  {
   "cell_type": "code",
   "execution_count": 113,
   "id": "a3b8d4c7-8b03-4560-a389-ac051deeffd3",
   "metadata": {},
   "outputs": [],
   "source": [
    "def clean_and_convert(column):\n",
    "    numeric_part = column.str.extract(r'(\\d*\\.\\d+|\\d+)', expand=False)\n",
    "    column_numeric = pd.to_numeric(numeric_part, errors='coerce') * column.str.extract(r'([Kk])', expand=False).fillna(1).replace({'K': 1e3, 'k': 1e3})    \n",
    "    return column_numeric\n",
    "\n",
    "df['WAGE'] = clean_and_convert(df['WAGE'])\n",
    "\n",
    "df = df[df['WAGE'] != 0]"
   ]
  },
  {
   "cell_type": "code",
   "execution_count": 114,
   "id": "be5017f7-f09d-4b01-90f8-dd4a74642407",
   "metadata": {},
   "outputs": [],
   "source": [
    "wage_and_overall = df.iloc[:, [5, 8]].values"
   ]
  },
  {
   "cell_type": "code",
   "execution_count": 115,
   "id": "39c7dcf4-c64a-4811-911f-f3d95ada5d24",
   "metadata": {},
   "outputs": [],
   "source": [
    "standard_scaler = StandardScaler()\n",
    "wage_and_overall = standard_scaler.fit_transform(wage_and_overall)"
   ]
  },
  {
   "cell_type": "code",
   "execution_count": 116,
   "id": "7b969e81-72fb-41b5-81c4-6d8591778f86",
   "metadata": {},
   "outputs": [
    {
     "name": "stderr",
     "output_type": "stream",
     "text": [
      "C:\\Users\\x_fernare1\\AppData\\Local\\Programs\\Python\\Python311\\Lib\\site-packages\\sklearn\\cluster\\_kmeans.py:1416: FutureWarning:\n",
      "\n",
      "The default value of `n_init` will change from 10 to 'auto' in 1.4. Set the value of `n_init` explicitly to suppress the warning\n",
      "\n",
      "C:\\Users\\x_fernare1\\AppData\\Local\\Programs\\Python\\Python311\\Lib\\site-packages\\sklearn\\cluster\\_kmeans.py:1416: FutureWarning:\n",
      "\n",
      "The default value of `n_init` will change from 10 to 'auto' in 1.4. Set the value of `n_init` explicitly to suppress the warning\n",
      "\n",
      "C:\\Users\\x_fernare1\\AppData\\Local\\Programs\\Python\\Python311\\Lib\\site-packages\\sklearn\\cluster\\_kmeans.py:1416: FutureWarning:\n",
      "\n",
      "The default value of `n_init` will change from 10 to 'auto' in 1.4. Set the value of `n_init` explicitly to suppress the warning\n",
      "\n",
      "C:\\Users\\x_fernare1\\AppData\\Local\\Programs\\Python\\Python311\\Lib\\site-packages\\sklearn\\cluster\\_kmeans.py:1416: FutureWarning:\n",
      "\n",
      "The default value of `n_init` will change from 10 to 'auto' in 1.4. Set the value of `n_init` explicitly to suppress the warning\n",
      "\n",
      "C:\\Users\\x_fernare1\\AppData\\Local\\Programs\\Python\\Python311\\Lib\\site-packages\\sklearn\\cluster\\_kmeans.py:1416: FutureWarning:\n",
      "\n",
      "The default value of `n_init` will change from 10 to 'auto' in 1.4. Set the value of `n_init` explicitly to suppress the warning\n",
      "\n",
      "C:\\Users\\x_fernare1\\AppData\\Local\\Programs\\Python\\Python311\\Lib\\site-packages\\sklearn\\cluster\\_kmeans.py:1416: FutureWarning:\n",
      "\n",
      "The default value of `n_init` will change from 10 to 'auto' in 1.4. Set the value of `n_init` explicitly to suppress the warning\n",
      "\n",
      "C:\\Users\\x_fernare1\\AppData\\Local\\Programs\\Python\\Python311\\Lib\\site-packages\\sklearn\\cluster\\_kmeans.py:1416: FutureWarning:\n",
      "\n",
      "The default value of `n_init` will change from 10 to 'auto' in 1.4. Set the value of `n_init` explicitly to suppress the warning\n",
      "\n",
      "C:\\Users\\x_fernare1\\AppData\\Local\\Programs\\Python\\Python311\\Lib\\site-packages\\sklearn\\cluster\\_kmeans.py:1416: FutureWarning:\n",
      "\n",
      "The default value of `n_init` will change from 10 to 'auto' in 1.4. Set the value of `n_init` explicitly to suppress the warning\n",
      "\n",
      "C:\\Users\\x_fernare1\\AppData\\Local\\Programs\\Python\\Python311\\Lib\\site-packages\\sklearn\\cluster\\_kmeans.py:1416: FutureWarning:\n",
      "\n",
      "The default value of `n_init` will change from 10 to 'auto' in 1.4. Set the value of `n_init` explicitly to suppress the warning\n",
      "\n",
      "C:\\Users\\x_fernare1\\AppData\\Local\\Programs\\Python\\Python311\\Lib\\site-packages\\sklearn\\cluster\\_kmeans.py:1416: FutureWarning:\n",
      "\n",
      "The default value of `n_init` will change from 10 to 'auto' in 1.4. Set the value of `n_init` explicitly to suppress the warning\n",
      "\n"
     ]
    },
    {
     "data": {
      "text/plain": [
       "[12006.000000000013,\n",
       " 6368.440798721481,\n",
       " 3722.513924068055,\n",
       " 2483.0689736144777,\n",
       " 1819.6700369959594,\n",
       " 1427.5217282899553,\n",
       " 1204.2770949482003,\n",
       " 1039.148108845472,\n",
       " 908.779245406969,\n",
       " 789.5168042307035]"
      ]
     },
     "execution_count": 116,
     "metadata": {},
     "output_type": "execute_result"
    }
   ],
   "source": [
    "wcss = []\n",
    "for i in range(1, 11):\n",
    "  kmeans_players = KMeans(n_clusters=i, random_state=0)\n",
    "  kmeans_players.fit(wage_and_overall)\n",
    "  wcss.append(kmeans_players.inertia_)\n",
    "\n",
    "wcss"
   ]
  },
  {
   "cell_type": "code",
   "execution_count": 117,
   "id": "a5be4df1-5c85-4311-8fef-379c2ae64f37",
   "metadata": {},
   "outputs": [
    {
     "data": {
      "text/html": [
       "<iframe\n",
       "    scrolling=\"no\"\n",
       "    width=\"100%\"\n",
       "    height=\"545px\"\n",
       "    src=\"iframe_figures/figure_117.html\"\n",
       "    frameborder=\"0\"\n",
       "    allowfullscreen\n",
       "></iframe>\n"
      ]
     },
     "metadata": {},
     "output_type": "display_data"
    }
   ],
   "source": [
    "cluster_best_number_graph = px.line(x = range(1, 11), y = wcss)\n",
    "cluster_best_number_graph.show()"
   ]
  },
  {
   "cell_type": "code",
   "execution_count": 118,
   "id": "1be2972f-b6b2-4b51-8788-87efa39448bb",
   "metadata": {},
   "outputs": [
    {
     "name": "stderr",
     "output_type": "stream",
     "text": [
      "C:\\Users\\x_fernare1\\AppData\\Local\\Programs\\Python\\Python311\\Lib\\site-packages\\sklearn\\cluster\\_kmeans.py:1416: FutureWarning:\n",
      "\n",
      "The default value of `n_init` will change from 10 to 'auto' in 1.4. Set the value of `n_init` explicitly to suppress the warning\n",
      "\n"
     ]
    }
   ],
   "source": [
    "kmeans_players = KMeans(n_clusters=6, random_state=0)\n",
    "labels = kmeans_players.fit_predict(wage_and_overall)"
   ]
  },
  {
   "cell_type": "code",
   "execution_count": 119,
   "id": "01a893c2-a42e-4cbd-a2d3-35541e364a11",
   "metadata": {},
   "outputs": [
    {
     "data": {
      "text/html": [
       "<iframe\n",
       "    scrolling=\"no\"\n",
       "    width=\"100%\"\n",
       "    height=\"545px\"\n",
       "    src=\"iframe_figures/figure_119.html\"\n",
       "    frameborder=\"0\"\n",
       "    allowfullscreen\n",
       "></iframe>\n"
      ]
     },
     "metadata": {},
     "output_type": "display_data"
    }
   ],
   "source": [
    "groups_graph = px.scatter(x = wage_and_overall[:,0], y = wage_and_overall[:,1], color=labels)\n",
    "groups_graph.show()"
   ]
  },
  {
   "cell_type": "code",
   "execution_count": 120,
   "id": "2d253de8-4822-462a-8605-46f768ac35f0",
   "metadata": {},
   "outputs": [
    {
     "data": {
      "text/plain": [
       "array([['Manor Solomon', '24/07/1999', 'Israel', ..., 10.0, 'LM', 0],\n",
       "       ['Marcus Rashford', '31/10/1997', 'England', ..., 14.0, 'LW', 3],\n",
       "       ['Hugo Bueno López', '18/09/2002', 'Spain', ..., 11.0, 'LB', 0],\n",
       "       ...,\n",
       "       ['Kevin Restenedo', '29/02/1988', 'Ecuador', ..., 12.0, 'ST', 2],\n",
       "       ['Fabian Pekruhl', '14/02/1999', 'Germany', ..., 57.0, 'GK', 5],\n",
       "       ['Rayvien Rosario', '11/04/2004', 'Curacao', ..., 6.0, 'CAM', 5]],\n",
       "      dtype=object)"
      ]
     },
     "execution_count": 120,
     "metadata": {},
     "output_type": "execute_result"
    }
   ],
   "source": [
    "players_list = np.column_stack((df, labels))\n",
    "players_list"
   ]
  },
  {
   "cell_type": "code",
   "execution_count": 121,
   "id": "01140c03-de41-4f2f-ab26-9a10646f7ad1",
   "metadata": {},
   "outputs": [
    {
     "data": {
      "text/plain": [
       "(6003, 53)"
      ]
     },
     "execution_count": 121,
     "metadata": {},
     "output_type": "execute_result"
    }
   ],
   "source": [
    "players_list.shape"
   ]
  },
  {
   "cell_type": "code",
   "execution_count": 122,
   "id": "b0933069-0b8a-4103-ae86-bfcc397b5d47",
   "metadata": {},
   "outputs": [
    {
     "data": {
      "text/plain": [
       "array([['Manor Solomon', 77, 1000.0, 0],\n",
       "       ['Robin Kwamina Quaison', 70, 18000.0, 0],\n",
       "       [\"Youssouf Yacoub M'Changama\", 71, 12000.0, 0],\n",
       "       ...,\n",
       "       ['Darren Yapi', 56, 500.0, 5],\n",
       "       ['Lex-Tyger Lobinger', 62, 2000.0, 5],\n",
       "       ['Rayvien Rosario', 57, 650.0, 5]], dtype=object)"
      ]
     },
     "execution_count": 122,
     "metadata": {},
     "output_type": "execute_result"
    }
   ],
   "source": [
    "players_list = players_list[players_list[:, 52].argsort()]\n",
    "players_list = players_list[:, [0, 5, 8, -1]]\n",
    "players_list"
   ]
  },
  {
   "cell_type": "code",
   "execution_count": 123,
   "id": "fbf98643-4b9b-4be3-ab76-55d1970f1ad9",
   "metadata": {},
   "outputs": [
    {
     "data": {
      "text/html": [
       "<iframe\n",
       "    scrolling=\"no\"\n",
       "    width=\"1020px\"\n",
       "    height=\"645\"\n",
       "    src=\"iframe_figures/figure_123.html\"\n",
       "    frameborder=\"0\"\n",
       "    allowfullscreen\n",
       "></iframe>\n"
      ]
     },
     "metadata": {},
     "output_type": "display_data"
    }
   ],
   "source": [
    "names = players_list[:, 0]\n",
    "overall_ratings = players_list[:, 1].astype(float)\n",
    "wages = players_list[:, 2].astype(float)\n",
    "\n",
    "fig = px.scatter(x=overall_ratings, y=wages, text=names, labels={'x': 'Overall Rating', 'y': 'Wage'},\n",
    "                 title='Scatter Plot of Overall Rating vs Wage',\n",
    "                 template='plotly_white')\n",
    "\n",
    "fig.update_traces(textposition='bottom right', textfont=dict(size=8))\n",
    "fig.update_layout(width=1000, height=625)\n",
    "\n",
    "fig.show()"
   ]
  },
  {
   "cell_type": "code",
   "execution_count": 124,
   "id": "a836d8bf-d3b0-41cc-a2cb-a43236ad549c",
   "metadata": {},
   "outputs": [
    {
     "data": {
      "text/html": [
       "<div>\n",
       "<style scoped>\n",
       "    .dataframe tbody tr th:only-of-type {\n",
       "        vertical-align: middle;\n",
       "    }\n",
       "\n",
       "    .dataframe tbody tr th {\n",
       "        vertical-align: top;\n",
       "    }\n",
       "\n",
       "    .dataframe thead th {\n",
       "        text-align: right;\n",
       "    }\n",
       "</style>\n",
       "<table border=\"1\" class=\"dataframe\">\n",
       "  <thead>\n",
       "    <tr style=\"text-align: right;\">\n",
       "      <th></th>\n",
       "      <th>NAME</th>\n",
       "      <th>BIRTH_DATE</th>\n",
       "      <th>COUNTRY</th>\n",
       "      <th>TEAM</th>\n",
       "      <th>ID</th>\n",
       "      <th>OVERALL_RATING</th>\n",
       "      <th>POTENTIAL</th>\n",
       "      <th>VALUE</th>\n",
       "      <th>WAGE</th>\n",
       "      <th>HEIGHT</th>\n",
       "      <th>...</th>\n",
       "      <th>DEFENSIVE_AWARENESS</th>\n",
       "      <th>STANDING_TACKLE</th>\n",
       "      <th>SLIDING_TACKLE</th>\n",
       "      <th>GK_DIVING</th>\n",
       "      <th>GK_HANDLING</th>\n",
       "      <th>GK_KICKING</th>\n",
       "      <th>GK_POSITIONING</th>\n",
       "      <th>GK_REFLEXES</th>\n",
       "      <th>POSITION</th>\n",
       "      <th>OVERALL_RANGE</th>\n",
       "    </tr>\n",
       "  </thead>\n",
       "  <tbody>\n",
       "    <tr>\n",
       "      <th>0</th>\n",
       "      <td>Manor Solomon</td>\n",
       "      <td>24/07/1999</td>\n",
       "      <td>Israel</td>\n",
       "      <td>Fulham</td>\n",
       "      <td>246791</td>\n",
       "      <td>77</td>\n",
       "      <td>84</td>\n",
       "      <td>€21.5M</td>\n",
       "      <td>1000.0</td>\n",
       "      <td>170</td>\n",
       "      <td>...</td>\n",
       "      <td>50.0</td>\n",
       "      <td>47.0</td>\n",
       "      <td>35.0</td>\n",
       "      <td>12.0</td>\n",
       "      <td>11.0</td>\n",
       "      <td>9.0</td>\n",
       "      <td>13.0</td>\n",
       "      <td>10.0</td>\n",
       "      <td>LM</td>\n",
       "      <td>75-80</td>\n",
       "    </tr>\n",
       "    <tr>\n",
       "      <th>1</th>\n",
       "      <td>Marcus Rashford</td>\n",
       "      <td>31/10/1997</td>\n",
       "      <td>England</td>\n",
       "      <td>Manchester United</td>\n",
       "      <td>231677</td>\n",
       "      <td>85</td>\n",
       "      <td>88</td>\n",
       "      <td>€73.5M</td>\n",
       "      <td>170000.0</td>\n",
       "      <td>186</td>\n",
       "      <td>...</td>\n",
       "      <td>40.0</td>\n",
       "      <td>38.0</td>\n",
       "      <td>33.0</td>\n",
       "      <td>11.0</td>\n",
       "      <td>6.0</td>\n",
       "      <td>15.0</td>\n",
       "      <td>7.0</td>\n",
       "      <td>14.0</td>\n",
       "      <td>LW</td>\n",
       "      <td>85-90</td>\n",
       "    </tr>\n",
       "    <tr>\n",
       "      <th>2</th>\n",
       "      <td>Hugo Bueno López</td>\n",
       "      <td>18/09/2002</td>\n",
       "      <td>Spain</td>\n",
       "      <td>Wolverhampton Wanderers</td>\n",
       "      <td>261224</td>\n",
       "      <td>70</td>\n",
       "      <td>82</td>\n",
       "      <td>€3.6M</td>\n",
       "      <td>18000.0</td>\n",
       "      <td>180</td>\n",
       "      <td>...</td>\n",
       "      <td>64.0</td>\n",
       "      <td>66.0</td>\n",
       "      <td>64.0</td>\n",
       "      <td>9.0</td>\n",
       "      <td>12.0</td>\n",
       "      <td>13.0</td>\n",
       "      <td>6.0</td>\n",
       "      <td>11.0</td>\n",
       "      <td>LB</td>\n",
       "      <td>70-75</td>\n",
       "    </tr>\n",
       "    <tr>\n",
       "      <th>3</th>\n",
       "      <td>William Alain André Gabriel Saliba</td>\n",
       "      <td>24/03/2001</td>\n",
       "      <td>France</td>\n",
       "      <td>Arsenal</td>\n",
       "      <td>243715</td>\n",
       "      <td>83</td>\n",
       "      <td>89</td>\n",
       "      <td>€53M</td>\n",
       "      <td>73000.0</td>\n",
       "      <td>193</td>\n",
       "      <td>...</td>\n",
       "      <td>85.0</td>\n",
       "      <td>87.0</td>\n",
       "      <td>83.0</td>\n",
       "      <td>7.0</td>\n",
       "      <td>10.0</td>\n",
       "      <td>6.0</td>\n",
       "      <td>8.0</td>\n",
       "      <td>11.0</td>\n",
       "      <td>CB</td>\n",
       "      <td>80-85</td>\n",
       "    </tr>\n",
       "    <tr>\n",
       "      <th>4</th>\n",
       "      <td>Bukayo Saka</td>\n",
       "      <td>05/09/2001</td>\n",
       "      <td>England</td>\n",
       "      <td>Arsenal</td>\n",
       "      <td>246669</td>\n",
       "      <td>85</td>\n",
       "      <td>90</td>\n",
       "      <td>€80M</td>\n",
       "      <td>110000.0</td>\n",
       "      <td>178</td>\n",
       "      <td>...</td>\n",
       "      <td>65.0</td>\n",
       "      <td>69.0</td>\n",
       "      <td>67.0</td>\n",
       "      <td>7.0</td>\n",
       "      <td>8.0</td>\n",
       "      <td>13.0</td>\n",
       "      <td>9.0</td>\n",
       "      <td>13.0</td>\n",
       "      <td>RW</td>\n",
       "      <td>85-90</td>\n",
       "    </tr>\n",
       "  </tbody>\n",
       "</table>\n",
       "<p>5 rows × 53 columns</p>\n",
       "</div>"
      ],
      "text/plain": [
       "                                 NAME  BIRTH_DATE  COUNTRY  \\\n",
       "0                       Manor Solomon  24/07/1999   Israel   \n",
       "1                     Marcus Rashford  31/10/1997  England   \n",
       "2                    Hugo Bueno López  18/09/2002    Spain   \n",
       "3  William Alain André Gabriel Saliba  24/03/2001   France   \n",
       "4                         Bukayo Saka  05/09/2001  England   \n",
       "\n",
       "                      TEAM      ID  OVERALL_RATING  POTENTIAL   VALUE  \\\n",
       "0                   Fulham  246791              77         84  €21.5M   \n",
       "1        Manchester United  231677              85         88  €73.5M   \n",
       "2  Wolverhampton Wanderers  261224              70         82   €3.6M   \n",
       "3                  Arsenal  243715              83         89    €53M   \n",
       "4                  Arsenal  246669              85         90    €80M   \n",
       "\n",
       "       WAGE  HEIGHT  ... DEFENSIVE_AWARENESS STANDING_TACKLE  SLIDING_TACKLE  \\\n",
       "0    1000.0     170  ...                50.0            47.0            35.0   \n",
       "1  170000.0     186  ...                40.0            38.0            33.0   \n",
       "2   18000.0     180  ...                64.0            66.0            64.0   \n",
       "3   73000.0     193  ...                85.0            87.0            83.0   \n",
       "4  110000.0     178  ...                65.0            69.0            67.0   \n",
       "\n",
       "   GK_DIVING  GK_HANDLING  GK_KICKING GK_POSITIONING  GK_REFLEXES  POSITION  \\\n",
       "0       12.0         11.0         9.0           13.0         10.0        LM   \n",
       "1       11.0          6.0        15.0            7.0         14.0        LW   \n",
       "2        9.0         12.0        13.0            6.0         11.0        LB   \n",
       "3        7.0         10.0         6.0            8.0         11.0        CB   \n",
       "4        7.0          8.0        13.0            9.0         13.0        RW   \n",
       "\n",
       "   OVERALL_RANGE  \n",
       "0          75-80  \n",
       "1          85-90  \n",
       "2          70-75  \n",
       "3          80-85  \n",
       "4          85-90  \n",
       "\n",
       "[5 rows x 53 columns]"
      ]
     },
     "execution_count": 124,
     "metadata": {},
     "output_type": "execute_result"
    }
   ],
   "source": [
    "bins = np.arange(math.floor(df['OVERALL_RATING'].min() / 5) * 5, \n",
    "                 math.ceil(df['OVERALL_RATING'].max() / 5) * 5 + 5, \n",
    "                 5)\n",
    "labels = [f'{start}-{end}' for start, end in zip(bins[:-1], bins[1:])]\n",
    "df['OVERALL_RANGE'] = pd.cut(df['OVERALL_RATING'], bins=bins, labels=labels, include_lowest=True, right=False)\n",
    "\n",
    "df.to_csv('../data/players_dataset_with_fixed_wage_and_overall_ranges.csv', index=False)\n",
    "\n",
    "df.head()"
   ]
  }
 ],
 "metadata": {
  "kernelspec": {
   "display_name": "Python 3 (ipykernel)",
   "language": "python",
   "name": "python3"
  },
  "language_info": {
   "codemirror_mode": {
    "name": "ipython",
    "version": 3
   },
   "file_extension": ".py",
   "mimetype": "text/x-python",
   "name": "python",
   "nbconvert_exporter": "python",
   "pygments_lexer": "ipython3",
   "version": "3.11.5"
  }
 },
 "nbformat": 4,
 "nbformat_minor": 5
}
