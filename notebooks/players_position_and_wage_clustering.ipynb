{
 "cells": [
  {
   "cell_type": "code",
   "execution_count": 112,
   "id": "1eb14563-a0ed-4ac4-a8c6-20de2e5035f4",
   "metadata": {},
   "outputs": [],
   "source": [
    "import pandas as pd\n",
    "from sklearn.preprocessing import StandardScaler, LabelEncoder\n",
    "from sklearn.cluster import KMeans\n",
    "import plotly.express as px\n",
    "import plotly.io as pio\n",
    "pio.renderers.default = \"iframe\""
   ]
  },
  {
   "cell_type": "code",
   "execution_count": 113,
   "id": "3fa5279d-ac61-47e3-b77b-69e52b1b45b2",
   "metadata": {},
   "outputs": [],
   "source": [
    "df = pd.read_csv(\"../data/players_dataset_with_fixed_wage_and_overall_ranges.csv\")"
   ]
  },
  {
   "cell_type": "code",
   "execution_count": 114,
   "id": "fbf881a9-f72d-4ebe-8949-715f529a05a1",
   "metadata": {},
   "outputs": [],
   "source": [
    "def map_positions(position):\n",
    "    if position == 'GK':\n",
    "        return 'GOALKEEPER'\n",
    "    elif position in ['CB', 'RB', 'LB', 'RWB', 'LWB']:\n",
    "        return 'DEFENDER'\n",
    "    elif position in ['CM', 'CDM', 'CAM', 'RM', 'LM']:\n",
    "        return 'MIDFIELDER'\n",
    "    elif position in ['ST', 'CF', 'RF', 'LF', 'RW', 'LW']:\n",
    "        return 'FORWARD'\n",
    "    else:\n",
    "        return 'OTHER'\n",
    "\n",
    "df['BROAD_POSITION'] = df['POSITION'].apply(map_positions)"
   ]
  },
  {
   "cell_type": "code",
   "execution_count": 115,
   "id": "ab39a789-3803-40e8-8cb5-757102b90e19",
   "metadata": {},
   "outputs": [],
   "source": [
    "original_df = df.copy()"
   ]
  },
  {
   "cell_type": "code",
   "execution_count": 116,
   "id": "2472e6a1-5df4-4582-872d-dedb17d7b285",
   "metadata": {},
   "outputs": [],
   "source": [
    "wage_pos = df[['WAGE', 'BROAD_POSITION']].copy()"
   ]
  },
  {
   "cell_type": "code",
   "execution_count": 117,
   "id": "d4d1ade9-1407-4e36-a598-9bac75b84a86",
   "metadata": {},
   "outputs": [],
   "source": [
    "label_encoder = LabelEncoder()\n",
    "wage_pos['BROAD_POSITION'] = label_encoder.fit_transform(wage_pos['BROAD_POSITION'])"
   ]
  },
  {
   "cell_type": "code",
   "execution_count": 118,
   "id": "06a9d6ec-f2e5-461f-8abd-3c32fbfc29e8",
   "metadata": {},
   "outputs": [],
   "source": [
    "scaler = StandardScaler()\n",
    "wage_pos_scaled = scaler.fit_transform(wage_pos)"
   ]
  },
  {
   "cell_type": "code",
   "execution_count": 119,
   "id": "bdfc7fac-e5da-47c7-9501-15a04682ffa9",
   "metadata": {},
   "outputs": [
    {
     "name": "stderr",
     "output_type": "stream",
     "text": [
      "C:\\Users\\x_fernare1\\AppData\\Local\\Programs\\Python\\Python311\\Lib\\site-packages\\sklearn\\cluster\\_kmeans.py:1416: FutureWarning:\n",
      "\n",
      "The default value of `n_init` will change from 10 to 'auto' in 1.4. Set the value of `n_init` explicitly to suppress the warning\n",
      "\n"
     ]
    }
   ],
   "source": [
    "n_clusters = 4\n",
    "kmeans_players = KMeans(n_clusters=n_clusters, random_state=0)\n",
    "labels = kmeans_players.fit_predict(wage_pos_scaled)"
   ]
  },
  {
   "cell_type": "code",
   "execution_count": 120,
   "id": "9f23bfe1-89f3-4bcd-89b1-139e7df4e637",
   "metadata": {},
   "outputs": [
    {
     "data": {
      "text/plain": [
       "array(['DEFENDER', 'FORWARD', 'GOALKEEPER', 'MIDFIELDER'], dtype=object)"
      ]
     },
     "execution_count": 120,
     "metadata": {},
     "output_type": "execute_result"
    }
   ],
   "source": [
    "label_encoder.classes_"
   ]
  },
  {
   "cell_type": "code",
   "execution_count": 121,
   "id": "4c749953-2af1-4f5f-8a56-b24095483d2a",
   "metadata": {},
   "outputs": [],
   "source": [
    "wage_pos['Cluster_Label'] = labels"
   ]
  },
  {
   "cell_type": "code",
   "execution_count": 122,
   "id": "d3a5b082-1d39-4236-b8e4-f4a93e265801",
   "metadata": {},
   "outputs": [
    {
     "data": {
      "text/html": [
       "<iframe\n",
       "    scrolling=\"no\"\n",
       "    width=\"100%\"\n",
       "    height=\"545px\"\n",
       "    src=\"iframe_figures/figure_122.html\"\n",
       "    frameborder=\"0\"\n",
       "    allowfullscreen\n",
       "></iframe>\n"
      ]
     },
     "metadata": {},
     "output_type": "display_data"
    }
   ],
   "source": [
    "fig_clusters = px.scatter(wage_pos, x='WAGE', color='Cluster_Label', symbol='BROAD_POSITION',\n",
    "                          labels={'WAGE': 'Wage', 'Cluster_Label': 'Cluster Label'},\n",
    "                          title='Player Clusters Based on Wage and Position (KMeans)')\n",
    "fig_clusters.show()"
   ]
  },
  {
   "cell_type": "code",
   "execution_count": 123,
   "id": "a9ff8c2a-99a7-4302-89c0-e007edbc3ddb",
   "metadata": {},
   "outputs": [],
   "source": [
    "position_mapping = dict(zip(original_df['BROAD_POSITION'], original_df['BROAD_POSITION']))"
   ]
  },
  {
   "cell_type": "code",
   "execution_count": 124,
   "id": "177f4e03-a593-4a1b-80b3-f17e06140cf2",
   "metadata": {},
   "outputs": [],
   "source": [
    "wage_pos['BROAD_POSITION'] = wage_pos['BROAD_POSITION'].map(position_mapping)"
   ]
  },
  {
   "cell_type": "code",
   "execution_count": 125,
   "id": "94176b1b-4d3a-4308-9d84-4730c24aa8a6",
   "metadata": {},
   "outputs": [
    {
     "data": {
      "text/html": [
       "<iframe\n",
       "    scrolling=\"no\"\n",
       "    width=\"100%\"\n",
       "    height=\"545px\"\n",
       "    src=\"iframe_figures/figure_125.html\"\n",
       "    frameborder=\"0\"\n",
       "    allowfullscreen\n",
       "></iframe>\n"
      ]
     },
     "metadata": {},
     "output_type": "display_data"
    }
   ],
   "source": [
    "fig_original_labels = px.scatter(original_df, x='WAGE', color='BROAD_POSITION', symbol='BROAD_POSITION',\n",
    "                                 labels={'WAGE': 'Wage', 'BROAD_POSITION': 'Original Position'},\n",
    "                                 title='Player Clusters Based on Wage and Position (Original Labels)')\n",
    "fig_original_labels.show()"
   ]
  }
 ],
 "metadata": {
  "kernelspec": {
   "display_name": "Python 3 (ipykernel)",
   "language": "python",
   "name": "python3"
  },
  "language_info": {
   "codemirror_mode": {
    "name": "ipython",
    "version": 3
   },
   "file_extension": ".py",
   "mimetype": "text/x-python",
   "name": "python",
   "nbconvert_exporter": "python",
   "pygments_lexer": "ipython3",
   "version": "3.11.5"
  }
 },
 "nbformat": 4,
 "nbformat_minor": 5
}
